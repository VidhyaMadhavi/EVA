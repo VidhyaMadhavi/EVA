{
  "nbformat": 4,
  "nbformat_minor": 0,
  "metadata": {
    "colab": {
      "name": "Assignment6A.ipynb",
      "provenance": [],
      "collapsed_sections": []
    },
    "kernelspec": {
      "name": "python3",
      "display_name": "Python 3"
    },
    "accelerator": "GPU"
  },
  "cells": [
    {
      "cell_type": "markdown",
      "metadata": {
        "id": "ZtDe6BADe7KX",
        "colab_type": "text"
      },
      "source": [
        "# Assignment 6\n"
      ]
    },
    {
      "cell_type": "code",
      "metadata": {
        "id": "2p6aUTcYe26j",
        "colab_type": "code",
        "colab": {}
      },
      "source": [
        "# Assignment 6\n",
        "# Run this network.  (Links to an external site.) After training the network, whatever accuracy you get is your base accuracy. Epochs = 100\n",
        "# Fix the network above:\n",
        "# remove dense\n",
        "# add layers required to reach RF\n",
        "# fix kernel scaleup and down (1x1)\n",
        "# see if all dropouts are properly placed\n",
        "# follow the guidelines we discussed in the class (\n",
        "# Get accuracy more than the base accuracy in less number 100 epochs. Hint, you might want to use \"border_mode='same',\"\n",
        "# Save File as Assignment 6A\n",
        "# Rewrite it again using these convolutions in the order given below:\n",
        "# Normal Convolution\n",
        "# Spatially Separable Convolution  (Conv2d(x, (3,1)) followed by Conv2D(x,(3,1))\n",
        "# Depthwise Separable Convolution\n",
        "# Grouped Convolution (use 3x3, 5x5 only)\n",
        "# Grouped Convolution (use 3x3 only, one with dilation = 1, and another with dilation = 2) \n",
        "# You must use all of the 5 above at least once\n",
        "# Train this new model for 50 epochs. \n",
        "# Save File as Assignment 6B\n",
        "# Total Score of 600. 400 for Code (300+100), and 200 for documentation (100+100)\n",
        "# Upload the github folder link which has both the files. \n",
        " "
      ],
      "execution_count": 0,
      "outputs": []
    },
    {
      "cell_type": "code",
      "metadata": {
        "id": "Vdw7mlste9PG",
        "colab_type": "code",
        "outputId": "a7476cfe-bac7-42e9-92da-26e60e0c9295",
        "colab": {
          "base_uri": "https://localhost:8080/",
          "height": 125
        }
      },
      "source": [
        "from google.colab import drive\n",
        "drive.mount('/content/drive')\n",
        "\n",
        "import os\n",
        "os.chdir('/content/drive/My Drive/EVA3/EVA3-Assignment6')"
      ],
      "execution_count": 0,
      "outputs": [
        {
          "output_type": "stream",
          "text": [
            "Go to this URL in a browser: https://accounts.google.com/o/oauth2/auth?client_id=947318989803-6bn6qk8qdgf4n4g3pfee6491hc0brc4i.apps.googleusercontent.com&redirect_uri=urn%3Aietf%3Awg%3Aoauth%3A2.0%3Aoob&scope=email%20https%3A%2F%2Fwww.googleapis.com%2Fauth%2Fdocs.test%20https%3A%2F%2Fwww.googleapis.com%2Fauth%2Fdrive%20https%3A%2F%2Fwww.googleapis.com%2Fauth%2Fdrive.photos.readonly%20https%3A%2F%2Fwww.googleapis.com%2Fauth%2Fpeopleapi.readonly&response_type=code\n",
            "\n",
            "Enter your authorization code:\n",
            "··········\n",
            "Mounted at /content/drive\n"
          ],
          "name": "stdout"
        }
      ]
    },
    {
      "cell_type": "markdown",
      "metadata": {
        "id": "LF7XNxInyoFc",
        "colab_type": "text"
      },
      "source": [
        "## Importing Necessary Libraries"
      ]
    },
    {
      "cell_type": "code",
      "metadata": {
        "id": "WDeNoYvbfEu8",
        "colab_type": "code",
        "outputId": "8d4ed93f-a941-4c5a-f43f-eb15add06ff6",
        "colab": {
          "base_uri": "https://localhost:8080/",
          "height": 34
        }
      },
      "source": [
        "from keras import backend as K\n",
        "import time\n",
        "import matplotlib.pyplot as plt\n",
        "import numpy as np\n",
        "% matplotlib inline\n",
        "np.random.seed(2017) \n",
        "from keras.models import Sequential\n",
        "from keras.layers.convolutional import Convolution2D, MaxPooling2D\n",
        "from keras.layers import Activation, Flatten, Dense, Dropout\n",
        "from keras.layers.normalization import BatchNormalization\n",
        "from keras.utils import np_utils"
      ],
      "execution_count": 0,
      "outputs": [
        {
          "output_type": "stream",
          "text": [
            "Using TensorFlow backend.\n"
          ],
          "name": "stderr"
        }
      ]
    },
    {
      "cell_type": "markdown",
      "metadata": {
        "id": "TG_xW8iYytUA",
        "colab_type": "text"
      },
      "source": [
        "## Downloading cifar data with 10 Classes"
      ]
    },
    {
      "cell_type": "code",
      "metadata": {
        "id": "rPOdgqmQfKFQ",
        "colab_type": "code",
        "outputId": "a34c7eea-18df-4624-b2fc-11cccd67262e",
        "colab": {
          "base_uri": "https://localhost:8080/",
          "height": 52
        }
      },
      "source": [
        "from keras.datasets import cifar10\n",
        "(train_features, train_labels), (test_features, test_labels) = cifar10.load_data()\n",
        "num_train, img_channels, img_rows, img_cols =  train_features.shape\n",
        "num_test, _, _, _ =  test_features.shape\n",
        "num_classes = len(np.unique(train_labels))"
      ],
      "execution_count": 0,
      "outputs": [
        {
          "output_type": "stream",
          "text": [
            "Downloading data from https://www.cs.toronto.edu/~kriz/cifar-10-python.tar.gz\n",
            "170500096/170498071 [==============================] - 6s 0us/step\n"
          ],
          "name": "stdout"
        }
      ]
    },
    {
      "cell_type": "markdown",
      "metadata": {
        "id": "uRw2EX_ey2zG",
        "colab_type": "text"
      },
      "source": [
        "## List the classe names and display the classes in the form of gallery\n"
      ]
    },
    {
      "cell_type": "code",
      "metadata": {
        "id": "2jJk1dwLfMV_",
        "colab_type": "code",
        "outputId": "6ea97277-9cac-4cf5-b3df-365339d2aa62",
        "colab": {
          "base_uri": "https://localhost:8080/",
          "height": 213
        }
      },
      "source": [
        "class_names = ['airplane','automobile','bird','cat','deer',\n",
        "               'dog','frog','horse','ship','truck']\n",
        "fig = plt.figure(figsize=(8,3))\n",
        "for i in range(num_classes):\n",
        "    ax = fig.add_subplot(2, 5, 1 + i, xticks=[], yticks=[])\n",
        "    idx = np.where(train_labels[:]==i)[0]\n",
        "    features_idx = train_features[idx,::]\n",
        "    img_num = np.random.randint(features_idx.shape[0])\n",
        "    im = features_idx[img_num]\n",
        "    ax.set_title(class_names[i])\n",
        "    plt.imshow(im)\n",
        "plt.show()"
      ],
      "execution_count": 0,
      "outputs": [
        {
          "output_type": "display_data",
          "data": {
            "image/png": "[encoded data removed]",
            "text/plain": [
              "<Figure size 576x216 with 10 Axes>"
            ]
          },
          "metadata": {
            "tags": []
          }
        }
      ]
    },
    {
      "cell_type": "markdown",
      "metadata": {
        "id": "EgMjDIGEzCMH",
        "colab_type": "text"
      },
      "source": [
        "## Function to plot the graph for epoch Vs Accuracy and epoch Vs Loss\n",
        "- this step is perfromed to understand the trend of the Accuracy and loss through out the training"
      ]
    },
    {
      "cell_type": "code",
      "metadata": {
        "id": "duDaEiqPfPHo",
        "colab_type": "code",
        "colab": {}
      },
      "source": [
        "def plot_model_history(model_history):\n",
        "    fig, axs = plt.subplots(1,2,figsize=(15,5))\n",
        "    # summarize history for accuracy\n",
        "    axs[0].plot(range(1,len(model_history.history['acc'])+1),model_history.history['acc'])\n",
        "    axs[0].plot(range(1,len(model_history.history['val_acc'])+1),model_history.history['val_acc'])\n",
        "    axs[0].set_title('Model Accuracy')\n",
        "    axs[0].set_ylabel('Accuracy')\n",
        "    axs[0].set_xlabel('Epoch')\n",
        "    axs[0].set_xticks(np.arange(1,len(model_history.history['acc'])+1),len(model_history.history['acc'])/10)\n",
        "    axs[0].legend(['train', 'val'], loc='best')\n",
        "    # summarize history for loss\n",
        "    axs[1].plot(range(1,len(model_history.history['loss'])+1),model_history.history['loss'])\n",
        "    axs[1].plot(range(1,len(model_history.history['val_loss'])+1),model_history.history['val_loss'])\n",
        "    axs[1].set_title('Model Loss')\n",
        "    axs[1].set_ylabel('Loss')\n",
        "    axs[1].set_xlabel('Epoch')\n",
        "    axs[1].set_xticks(np.arange(1,len(model_history.history['loss'])+1),len(model_history.history['loss'])/10)\n",
        "    axs[1].legend(['train', 'val'], loc='best')\n",
        "    plt.show()"
      ],
      "execution_count": 0,
      "outputs": []
    },
    {
      "cell_type": "markdown",
      "metadata": {
        "id": "x9vRXpWhzdJp",
        "colab_type": "text"
      },
      "source": [
        "## Calculate the Accuracy\n",
        "- (enteries that are predicted correctly/ total entries used for Prediction) gives the accuracy score"
      ]
    },
    {
      "cell_type": "code",
      "metadata": {
        "id": "HF-ISduOfRNI",
        "colab_type": "code",
        "colab": {}
      },
      "source": [
        "def accuracy(test_x, test_y, model):\n",
        "    result = model.predict(test_x)\n",
        "    predicted_class = np.argmax(result, axis=1)\n",
        "    true_class = np.argmax(test_y, axis=1)\n",
        "    num_correct = np.sum(predicted_class == true_class) \n",
        "    accuracy = float(num_correct)/result.shape[0]\n",
        "    return (accuracy * 100)"
      ],
      "execution_count": 0,
      "outputs": []
    },
    {
      "cell_type": "markdown",
      "metadata": {
        "id": "owzABUMa0rbE",
        "colab_type": "text"
      },
      "source": [
        "## Normalizing the data by dividing the train and test values by 255"
      ]
    },
    {
      "cell_type": "code",
      "metadata": {
        "id": "nY9c__SKfTly",
        "colab_type": "code",
        "colab": {}
      },
      "source": [
        "train_features = train_features.astype('float32')/255\n",
        "test_features = test_features.astype('float32')/255\n",
        "# convert class labels to binary class labels\n",
        "train_labels = np_utils.to_categorical(train_labels, num_classes)\n",
        "test_labels = np_utils.to_categorical(test_labels, num_classes)"
      ],
      "execution_count": 0,
      "outputs": []
    },
    {
      "cell_type": "markdown",
      "metadata": {
        "id": "ZiNGhxL_0_Rl",
        "colab_type": "text"
      },
      "source": [
        "## Definining the Model\n"
      ]
    },
    {
      "cell_type": "code",
      "metadata": {
        "id": "O85nohflfVYx",
        "colab_type": "code",
        "outputId": "e42290ec-e61e-436a-a3c1-6740d093113d",
        "colab": {
          "base_uri": "https://localhost:8080/",
          "height": 552
        }
      },
      "source": [
        "# Define the model\n",
        "model = Sequential()\n",
        "model.add(Convolution2D(48, 3, 3, border_mode='same', input_shape=(32, 32, 3)))\n",
        "model.add(Activation('relu'))\n",
        "model.add(Convolution2D(48, 3, 3))\n",
        "model.add(Activation('relu'))\n",
        "model.add(MaxPooling2D(pool_size=(2, 2)))\n",
        "model.add(Dropout(0.25))\n",
        "model.add(Convolution2D(96, 3, 3, border_mode='same'))\n",
        "model.add(Activation('relu'))\n",
        "model.add(Convolution2D(96, 3, 3))\n",
        "model.add(Activation('relu'))\n",
        "model.add(MaxPooling2D(pool_size=(2, 2)))\n",
        "model.add(Dropout(0.25))\n",
        "model.add(Convolution2D(192, 3, 3, border_mode='same'))\n",
        "model.add(Activation('relu'))\n",
        "model.add(Convolution2D(192, 3, 3))\n",
        "model.add(Activation('relu'))\n",
        "model.add(MaxPooling2D(pool_size=(2, 2)))\n",
        "model.add(Dropout(0.25))\n",
        "model.add(Flatten())\n",
        "model.add(Dense(512))\n",
        "model.add(Activation('relu'))\n",
        "model.add(Dropout(0.5))\n",
        "model.add(Dense(256))\n",
        "model.add(Activation('relu'))\n",
        "model.add(Dropout(0.5))\n",
        "model.add(Dense(num_classes, activation='softmax'))\n",
        "# Compile the model\n",
        "model.compile(optimizer='adam', loss='categorical_crossentropy', metrics=['accuracy'])"
      ],
      "execution_count": 0,
      "outputs": [
        {
          "output_type": "stream",
          "text": [
            "WARNING:tensorflow:From /usr/local/lib/python3.6/dist-packages/keras/backend/tensorflow_backend.py:66: The name tf.get_default_graph is deprecated. Please use tf.compat.v1.get_default_graph instead.\n",
            "\n",
            "WARNING:tensorflow:From /usr/local/lib/python3.6/dist-packages/keras/backend/tensorflow_backend.py:541: The name tf.placeholder is deprecated. Please use tf.compat.v1.placeholder instead.\n",
            "\n",
            "WARNING:tensorflow:From /usr/local/lib/python3.6/dist-packages/keras/backend/tensorflow_backend.py:4432: The name tf.random_uniform is deprecated. Please use tf.random.uniform instead.\n",
            "\n",
            "WARNING:tensorflow:From /usr/local/lib/python3.6/dist-packages/keras/backend/tensorflow_backend.py:4267: The name tf.nn.max_pool is deprecated. Please use tf.nn.max_pool2d instead.\n",
            "\n",
            "WARNING:tensorflow:From /usr/local/lib/python3.6/dist-packages/keras/backend/tensorflow_backend.py:148: The name tf.placeholder_with_default is deprecated. Please use tf.compat.v1.placeholder_with_default instead.\n",
            "\n",
            "WARNING:tensorflow:From /usr/local/lib/python3.6/dist-packages/keras/backend/tensorflow_backend.py:3733: calling dropout (from tensorflow.python.ops.nn_ops) with keep_prob is deprecated and will be removed in a future version.\n",
            "Instructions for updating:\n",
            "Please use `rate` instead of `keep_prob`. Rate should be set to `rate = 1 - keep_prob`.\n"
          ],
          "name": "stdout"
        },
        {
          "output_type": "stream",
          "text": [
            "/usr/local/lib/python3.6/dist-packages/ipykernel_launcher.py:2: UserWarning: Update your `Conv2D` call to the Keras 2 API: `Conv2D(48, (3, 3), input_shape=(32, 32, 3..., padding=\"same\")`\n",
            "  \n",
            "/usr/local/lib/python3.6/dist-packages/ipykernel_launcher.py:4: UserWarning: Update your `Conv2D` call to the Keras 2 API: `Conv2D(48, (3, 3))`\n",
            "  after removing the cwd from sys.path.\n",
            "/usr/local/lib/python3.6/dist-packages/ipykernel_launcher.py:8: UserWarning: Update your `Conv2D` call to the Keras 2 API: `Conv2D(96, (3, 3), padding=\"same\")`\n",
            "  \n",
            "/usr/local/lib/python3.6/dist-packages/ipykernel_launcher.py:10: UserWarning: Update your `Conv2D` call to the Keras 2 API: `Conv2D(96, (3, 3))`\n",
            "  # Remove the CWD from sys.path while we load stuff.\n",
            "/usr/local/lib/python3.6/dist-packages/ipykernel_launcher.py:14: UserWarning: Update your `Conv2D` call to the Keras 2 API: `Conv2D(192, (3, 3), padding=\"same\")`\n",
            "  \n",
            "/usr/local/lib/python3.6/dist-packages/ipykernel_launcher.py:16: UserWarning: Update your `Conv2D` call to the Keras 2 API: `Conv2D(192, (3, 3))`\n",
            "  app.launch_new_instance()\n"
          ],
          "name": "stderr"
        },
        {
          "output_type": "stream",
          "text": [
            "WARNING:tensorflow:From /usr/local/lib/python3.6/dist-packages/keras/optimizers.py:793: The name tf.train.Optimizer is deprecated. Please use tf.compat.v1.train.Optimizer instead.\n",
            "\n",
            "WARNING:tensorflow:From /usr/local/lib/python3.6/dist-packages/keras/backend/tensorflow_backend.py:3576: The name tf.log is deprecated. Please use tf.math.log instead.\n",
            "\n"
          ],
          "name": "stdout"
        }
      ]
    },
    {
      "cell_type": "code",
      "metadata": {
        "id": "8lhB-yF5fYHY",
        "colab_type": "code",
        "outputId": "fded39af-b060-4f81-f076-e92faa455f39",
        "colab": {
          "base_uri": "https://localhost:8080/",
          "height": 1000
        }
      },
      "source": [
        "model.summary()"
      ],
      "execution_count": 0,
      "outputs": [
        {
          "output_type": "stream",
          "text": [
            "Model: \"sequential_1\"\n",
            "_________________________________________________________________\n",
            "Layer (type)                 Output Shape              Param #   \n",
            "=================================================================\n",
            "conv2d_1 (Conv2D)            (None, 32, 32, 48)        1344      \n",
            "_________________________________________________________________\n",
            "activation_1 (Activation)    (None, 32, 32, 48)        0         \n",
            "_________________________________________________________________\n",
            "conv2d_2 (Conv2D)            (None, 30, 30, 48)        20784     \n",
            "_________________________________________________________________\n",
            "activation_2 (Activation)    (None, 30, 30, 48)        0         \n",
            "_________________________________________________________________\n",
            "max_pooling2d_1 (MaxPooling2 (None, 15, 15, 48)        0         \n",
            "_________________________________________________________________\n",
            "dropout_1 (Dropout)          (None, 15, 15, 48)        0         \n",
            "_________________________________________________________________\n",
            "conv2d_3 (Conv2D)            (None, 15, 15, 96)        41568     \n",
            "_________________________________________________________________\n",
            "activation_3 (Activation)    (None, 15, 15, 96)        0         \n",
            "_________________________________________________________________\n",
            "conv2d_4 (Conv2D)            (None, 13, 13, 96)        83040     \n",
            "_________________________________________________________________\n",
            "activation_4 (Activation)    (None, 13, 13, 96)        0         \n",
            "_________________________________________________________________\n",
            "max_pooling2d_2 (MaxPooling2 (None, 6, 6, 96)          0         \n",
            "_________________________________________________________________\n",
            "dropout_2 (Dropout)          (None, 6, 6, 96)          0         \n",
            "_________________________________________________________________\n",
            "conv2d_5 (Conv2D)            (None, 6, 6, 192)         166080    \n",
            "_________________________________________________________________\n",
            "activation_5 (Activation)    (None, 6, 6, 192)         0         \n",
            "_________________________________________________________________\n",
            "conv2d_6 (Conv2D)            (None, 4, 4, 192)         331968    \n",
            "_________________________________________________________________\n",
            "activation_6 (Activation)    (None, 4, 4, 192)         0         \n",
            "_________________________________________________________________\n",
            "max_pooling2d_3 (MaxPooling2 (None, 2, 2, 192)         0         \n",
            "_________________________________________________________________\n",
            "dropout_3 (Dropout)          (None, 2, 2, 192)         0         \n",
            "_________________________________________________________________\n",
            "flatten_1 (Flatten)          (None, 768)               0         \n",
            "_________________________________________________________________\n",
            "dense_1 (Dense)              (None, 512)               393728    \n",
            "_________________________________________________________________\n",
            "activation_7 (Activation)    (None, 512)               0         \n",
            "_________________________________________________________________\n",
            "dropout_4 (Dropout)          (None, 512)               0         \n",
            "_________________________________________________________________\n",
            "dense_2 (Dense)              (None, 256)               131328    \n",
            "_________________________________________________________________\n",
            "activation_8 (Activation)    (None, 256)               0         \n",
            "_________________________________________________________________\n",
            "dropout_5 (Dropout)          (None, 256)               0         \n",
            "_________________________________________________________________\n",
            "dense_3 (Dense)              (None, 10)                2570      \n",
            "=================================================================\n",
            "Total params: 1,172,410\n",
            "Trainable params: 1,172,410\n",
            "Non-trainable params: 0\n",
            "_________________________________________________________________\n"
          ],
          "name": "stdout"
        }
      ]
    },
    {
      "cell_type": "code",
      "metadata": {
        "id": "ihywqa41faU_",
        "colab_type": "code",
        "outputId": "601ef1e8-0783-4c86-9d83-eb1fa92df9e1",
        "colab": {
          "base_uri": "https://localhost:8080/",
          "height": 1000
        }
      },
      "source": [
        "from keras.preprocessing.image import ImageDataGenerator\n",
        "\n",
        "datagen = ImageDataGenerator(zoom_range=0.0, \n",
        "                             horizontal_flip=False)\n",
        "\n",
        "\n",
        "# train the model\n",
        "start = time.time()\n",
        "# Train the model\n",
        "model_info = model.fit_generator(datagen.flow(train_features, train_labels, batch_size = 128),\n",
        "                                 samples_per_epoch = train_features.shape[0], nb_epoch = 100, \n",
        "                                 validation_data = (test_features, test_labels), verbose=1)\n",
        "end = time.time()\n",
        "print (\"Model took %0.2f seconds to train\"%(end - start))\n",
        "# plot model history\n",
        "plot_model_history(model_info)\n",
        "# compute test accuracy\n",
        "print (\"Accuracy on test data is: %0.2f\"%accuracy(test_features, test_labels, model))"
      ],
      "execution_count": 0,
      "outputs": [
        {
          "output_type": "stream",
          "text": [
            "WARNING:tensorflow:From /usr/local/lib/python3.6/dist-packages/tensorflow_core/python/ops/math_grad.py:1424: where (from tensorflow.python.ops.array_ops) is deprecated and will be removed in a future version.\n",
            "Instructions for updating:\n",
            "Use tf.where in 2.0, which has the same broadcast rule as np.where\n"
          ],
          "name": "stdout"
        },
        {
          "output_type": "stream",
          "text": [
            "/usr/local/lib/python3.6/dist-packages/ipykernel_launcher.py:12: UserWarning: The semantics of the Keras 2 argument `steps_per_epoch` is not the same as the Keras 1 argument `samples_per_epoch`. `steps_per_epoch` is the number of batches to draw from the generator at each epoch. Basically steps_per_epoch = samples_per_epoch/batch_size. Similarly `nb_val_samples`->`validation_steps` and `val_samples`->`steps` arguments have changed. Update your method calls accordingly.\n",
            "  if sys.path[0] == '':\n",
            "/usr/local/lib/python3.6/dist-packages/ipykernel_launcher.py:12: UserWarning: Update your `fit_generator` call to the Keras 2 API: `fit_generator(<keras_pre..., validation_data=(array([[[..., verbose=1, steps_per_epoch=390, epochs=100)`\n",
            "  if sys.path[0] == '':\n"
          ],
          "name": "stderr"
        },
        {
          "output_type": "stream",
          "text": [
            "WARNING:tensorflow:From /usr/local/lib/python3.6/dist-packages/keras/backend/tensorflow_backend.py:1033: The name tf.assign_add is deprecated. Please use tf.compat.v1.assign_add instead.\n",
            "\n",
            "WARNING:tensorflow:From /usr/local/lib/python3.6/dist-packages/keras/backend/tensorflow_backend.py:1020: The name tf.assign is deprecated. Please use tf.compat.v1.assign instead.\n",
            "\n",
            "WARNING:tensorflow:From /usr/local/lib/python3.6/dist-packages/keras/backend/tensorflow_backend.py:3005: The name tf.Session is deprecated. Please use tf.compat.v1.Session instead.\n",
            "\n",
            "Epoch 1/100\n",
            "WARNING:tensorflow:From /usr/local/lib/python3.6/dist-packages/keras/backend/tensorflow_backend.py:190: The name tf.get_default_session is deprecated. Please use tf.compat.v1.get_default_session instead.\n",
            "\n",
            "WARNING:tensorflow:From /usr/local/lib/python3.6/dist-packages/keras/backend/tensorflow_backend.py:197: The name tf.ConfigProto is deprecated. Please use tf.compat.v1.ConfigProto instead.\n",
            "\n",
            "WARNING:tensorflow:From /usr/local/lib/python3.6/dist-packages/keras/backend/tensorflow_backend.py:207: The name tf.global_variables is deprecated. Please use tf.compat.v1.global_variables instead.\n",
            "\n",
            "WARNING:tensorflow:From /usr/local/lib/python3.6/dist-packages/keras/backend/tensorflow_backend.py:216: The name tf.is_variable_initialized is deprecated. Please use tf.compat.v1.is_variable_initialized instead.\n",
            "\n",
            "WARNING:tensorflow:From /usr/local/lib/python3.6/dist-packages/keras/backend/tensorflow_backend.py:223: The name tf.variables_initializer is deprecated. Please use tf.compat.v1.variables_initializer instead.\n",
            "\n",
            "390/390 [==============================] - 31s 81ms/step - loss: 1.8522 - acc: 0.2869 - val_loss: 1.4823 - val_acc: 0.4613\n",
            "Epoch 2/100\n",
            "390/390 [==============================] - 21s 53ms/step - loss: 1.3460 - acc: 0.5103 - val_loss: 1.1044 - val_acc: 0.6094\n",
            "Epoch 3/100\n",
            "390/390 [==============================] - 21s 53ms/step - loss: 1.1359 - acc: 0.5990 - val_loss: 0.9644 - val_acc: 0.6599\n",
            "Epoch 4/100\n",
            "390/390 [==============================] - 21s 54ms/step - loss: 0.9874 - acc: 0.6513 - val_loss: 0.8680 - val_acc: 0.7008\n",
            "Epoch 5/100\n",
            "390/390 [==============================] - 21s 55ms/step - loss: 0.8952 - acc: 0.6892 - val_loss: 0.9136 - val_acc: 0.6836\n",
            "Epoch 6/100\n",
            "390/390 [==============================] - 21s 54ms/step - loss: 0.8160 - acc: 0.7175 - val_loss: 0.7394 - val_acc: 0.7453\n",
            "Epoch 7/100\n",
            "390/390 [==============================] - 21s 53ms/step - loss: 0.7639 - acc: 0.7354 - val_loss: 0.7147 - val_acc: 0.7516\n",
            "Epoch 8/100\n",
            "390/390 [==============================] - 21s 54ms/step - loss: 0.7165 - acc: 0.7556 - val_loss: 0.6720 - val_acc: 0.7710\n",
            "Epoch 9/100\n",
            "390/390 [==============================] - 21s 55ms/step - loss: 0.6719 - acc: 0.7682 - val_loss: 0.6756 - val_acc: 0.7690\n",
            "Epoch 10/100\n",
            "390/390 [==============================] - 21s 55ms/step - loss: 0.6563 - acc: 0.7741 - val_loss: 0.6661 - val_acc: 0.7726\n",
            "Epoch 11/100\n",
            "390/390 [==============================] - 21s 54ms/step - loss: 0.6222 - acc: 0.7878 - val_loss: 0.6441 - val_acc: 0.7788\n",
            "Epoch 12/100\n",
            "390/390 [==============================] - 21s 54ms/step - loss: 0.5986 - acc: 0.7965 - val_loss: 0.6208 - val_acc: 0.7900\n",
            "Epoch 13/100\n",
            "390/390 [==============================] - 21s 54ms/step - loss: 0.5803 - acc: 0.8024 - val_loss: 0.6074 - val_acc: 0.7923\n",
            "Epoch 14/100\n",
            "390/390 [==============================] - 21s 54ms/step - loss: 0.5621 - acc: 0.8083 - val_loss: 0.6249 - val_acc: 0.7949\n",
            "Epoch 15/100\n",
            "390/390 [==============================] - 21s 53ms/step - loss: 0.5473 - acc: 0.8135 - val_loss: 0.6124 - val_acc: 0.7916\n",
            "Epoch 16/100\n",
            "390/390 [==============================] - 21s 53ms/step - loss: 0.5332 - acc: 0.8173 - val_loss: 0.6042 - val_acc: 0.8020\n",
            "Epoch 17/100\n",
            "390/390 [==============================] - 21s 53ms/step - loss: 0.5131 - acc: 0.8260 - val_loss: 0.5768 - val_acc: 0.8109\n",
            "Epoch 18/100\n",
            "390/390 [==============================] - 21s 53ms/step - loss: 0.4993 - acc: 0.8297 - val_loss: 0.5838 - val_acc: 0.8138\n",
            "Epoch 19/100\n",
            "390/390 [==============================] - 21s 53ms/step - loss: 0.4909 - acc: 0.8315 - val_loss: 0.5949 - val_acc: 0.8017\n",
            "Epoch 20/100\n",
            "390/390 [==============================] - 21s 53ms/step - loss: 0.4842 - acc: 0.8336 - val_loss: 0.5866 - val_acc: 0.8104\n",
            "Epoch 21/100\n",
            "390/390 [==============================] - 21s 53ms/step - loss: 0.4688 - acc: 0.8398 - val_loss: 0.5850 - val_acc: 0.8136\n",
            "Epoch 22/100\n",
            "390/390 [==============================] - 21s 54ms/step - loss: 0.4602 - acc: 0.8420 - val_loss: 0.6087 - val_acc: 0.8068\n",
            "Epoch 23/100\n",
            "390/390 [==============================] - 21s 53ms/step - loss: 0.4588 - acc: 0.8450 - val_loss: 0.5983 - val_acc: 0.8101\n",
            "Epoch 24/100\n",
            "390/390 [==============================] - 21s 53ms/step - loss: 0.4474 - acc: 0.8495 - val_loss: 0.5671 - val_acc: 0.8191\n",
            "Epoch 25/100\n",
            "390/390 [==============================] - 21s 53ms/step - loss: 0.4431 - acc: 0.8514 - val_loss: 0.5844 - val_acc: 0.8120\n",
            "Epoch 26/100\n",
            "390/390 [==============================] - 21s 53ms/step - loss: 0.4372 - acc: 0.8501 - val_loss: 0.5789 - val_acc: 0.8162\n",
            "Epoch 27/100\n",
            "390/390 [==============================] - 21s 54ms/step - loss: 0.4238 - acc: 0.8550 - val_loss: 0.5950 - val_acc: 0.8107\n",
            "Epoch 28/100\n",
            "390/390 [==============================] - 21s 53ms/step - loss: 0.4091 - acc: 0.8592 - val_loss: 0.5888 - val_acc: 0.8186\n",
            "Epoch 29/100\n",
            "390/390 [==============================] - 21s 53ms/step - loss: 0.4141 - acc: 0.8618 - val_loss: 0.5802 - val_acc: 0.8190\n",
            "Epoch 30/100\n",
            "390/390 [==============================] - 21s 53ms/step - loss: 0.4082 - acc: 0.8614 - val_loss: 0.5818 - val_acc: 0.8131\n",
            "Epoch 31/100\n",
            "390/390 [==============================] - 21s 54ms/step - loss: 0.4038 - acc: 0.8620 - val_loss: 0.5851 - val_acc: 0.8203\n",
            "Epoch 32/100\n",
            "390/390 [==============================] - 21s 54ms/step - loss: 0.4007 - acc: 0.8647 - val_loss: 0.5828 - val_acc: 0.8207\n",
            "Epoch 33/100\n",
            "390/390 [==============================] - 21s 54ms/step - loss: 0.3983 - acc: 0.8652 - val_loss: 0.5942 - val_acc: 0.8206\n",
            "Epoch 34/100\n",
            "390/390 [==============================] - 21s 54ms/step - loss: 0.3922 - acc: 0.8691 - val_loss: 0.5766 - val_acc: 0.8261\n",
            "Epoch 35/100\n",
            "390/390 [==============================] - 21s 54ms/step - loss: 0.3807 - acc: 0.8709 - val_loss: 0.5811 - val_acc: 0.8206\n",
            "Epoch 36/100\n",
            "390/390 [==============================] - 21s 54ms/step - loss: 0.3782 - acc: 0.8712 - val_loss: 0.5696 - val_acc: 0.8259\n",
            "Epoch 37/100\n",
            "390/390 [==============================] - 21s 55ms/step - loss: 0.3733 - acc: 0.8730 - val_loss: 0.5813 - val_acc: 0.8233\n",
            "Epoch 38/100\n",
            "390/390 [==============================] - 21s 55ms/step - loss: 0.3708 - acc: 0.8761 - val_loss: 0.5710 - val_acc: 0.8273\n",
            "Epoch 39/100\n",
            "390/390 [==============================] - 21s 55ms/step - loss: 0.3600 - acc: 0.8784 - val_loss: 0.5783 - val_acc: 0.8255\n",
            "Epoch 40/100\n",
            "390/390 [==============================] - 21s 55ms/step - loss: 0.3669 - acc: 0.8768 - val_loss: 0.5822 - val_acc: 0.8204\n",
            "Epoch 41/100\n",
            "390/390 [==============================] - 21s 54ms/step - loss: 0.3641 - acc: 0.8782 - val_loss: 0.6186 - val_acc: 0.8172\n",
            "Epoch 42/100\n",
            "390/390 [==============================] - 21s 55ms/step - loss: 0.3573 - acc: 0.8800 - val_loss: 0.5637 - val_acc: 0.8234\n",
            "Epoch 43/100\n",
            "390/390 [==============================] - 21s 54ms/step - loss: 0.3469 - acc: 0.8843 - val_loss: 0.5879 - val_acc: 0.8249\n",
            "Epoch 44/100\n",
            "390/390 [==============================] - 21s 55ms/step - loss: 0.3581 - acc: 0.8801 - val_loss: 0.5864 - val_acc: 0.8212\n",
            "Epoch 45/100\n",
            "390/390 [==============================] - 22s 55ms/step - loss: 0.3522 - acc: 0.8833 - val_loss: 0.5891 - val_acc: 0.8245\n",
            "Epoch 46/100\n",
            "390/390 [==============================] - 22s 55ms/step - loss: 0.3420 - acc: 0.8868 - val_loss: 0.5636 - val_acc: 0.8318\n",
            "Epoch 47/100\n",
            "390/390 [==============================] - 21s 54ms/step - loss: 0.3381 - acc: 0.8857 - val_loss: 0.5682 - val_acc: 0.8284\n",
            "Epoch 48/100\n",
            "390/390 [==============================] - 21s 53ms/step - loss: 0.3449 - acc: 0.8859 - val_loss: 0.5719 - val_acc: 0.8252\n",
            "Epoch 49/100\n",
            "390/390 [==============================] - 21s 54ms/step - loss: 0.3300 - acc: 0.8894 - val_loss: 0.6096 - val_acc: 0.8226\n",
            "Epoch 50/100\n",
            "390/390 [==============================] - 21s 54ms/step - loss: 0.3332 - acc: 0.8868 - val_loss: 0.5665 - val_acc: 0.8297\n",
            "Epoch 51/100\n",
            "390/390 [==============================] - 21s 54ms/step - loss: 0.3278 - acc: 0.8911 - val_loss: 0.6108 - val_acc: 0.8226\n",
            "Epoch 52/100\n",
            "390/390 [==============================] - 21s 55ms/step - loss: 0.3201 - acc: 0.8929 - val_loss: 0.6093 - val_acc: 0.8256\n",
            "Epoch 53/100\n",
            "390/390 [==============================] - 21s 55ms/step - loss: 0.3154 - acc: 0.8953 - val_loss: 0.6024 - val_acc: 0.8238\n",
            "Epoch 54/100\n",
            "390/390 [==============================] - 22s 55ms/step - loss: 0.3256 - acc: 0.8927 - val_loss: 0.5965 - val_acc: 0.8224\n",
            "Epoch 55/100\n",
            "390/390 [==============================] - 21s 55ms/step - loss: 0.3183 - acc: 0.8944 - val_loss: 0.6066 - val_acc: 0.8274\n",
            "Epoch 56/100\n",
            "390/390 [==============================] - 21s 55ms/step - loss: 0.3235 - acc: 0.8935 - val_loss: 0.5902 - val_acc: 0.8292\n",
            "Epoch 57/100\n",
            "390/390 [==============================] - 21s 55ms/step - loss: 0.3119 - acc: 0.8958 - val_loss: 0.5995 - val_acc: 0.8283\n",
            "Epoch 58/100\n",
            "390/390 [==============================] - 21s 55ms/step - loss: 0.3166 - acc: 0.8947 - val_loss: 0.5700 - val_acc: 0.8345\n",
            "Epoch 59/100\n",
            "390/390 [==============================] - 21s 54ms/step - loss: 0.3071 - acc: 0.8983 - val_loss: 0.6045 - val_acc: 0.8264\n",
            "Epoch 60/100\n",
            "390/390 [==============================] - 21s 53ms/step - loss: 0.3023 - acc: 0.8995 - val_loss: 0.6140 - val_acc: 0.8250\n",
            "Epoch 61/100\n",
            "390/390 [==============================] - 21s 54ms/step - loss: 0.3082 - acc: 0.8999 - val_loss: 0.5983 - val_acc: 0.8325\n",
            "Epoch 62/100\n",
            "390/390 [==============================] - 21s 54ms/step - loss: 0.3085 - acc: 0.8990 - val_loss: 0.6000 - val_acc: 0.8269\n",
            "Epoch 63/100\n",
            "390/390 [==============================] - 21s 54ms/step - loss: 0.3002 - acc: 0.9002 - val_loss: 0.6016 - val_acc: 0.8290\n",
            "Epoch 64/100\n",
            "390/390 [==============================] - 21s 54ms/step - loss: 0.3100 - acc: 0.9005 - val_loss: 0.5945 - val_acc: 0.8266\n",
            "Epoch 65/100\n",
            "390/390 [==============================] - 21s 54ms/step - loss: 0.3047 - acc: 0.8993 - val_loss: 0.6213 - val_acc: 0.8247\n",
            "Epoch 66/100\n",
            "390/390 [==============================] - 21s 54ms/step - loss: 0.2890 - acc: 0.9048 - val_loss: 0.6142 - val_acc: 0.8302\n",
            "Epoch 67/100\n",
            "390/390 [==============================] - 21s 54ms/step - loss: 0.2907 - acc: 0.9047 - val_loss: 0.6334 - val_acc: 0.8235\n",
            "Epoch 68/100\n",
            "390/390 [==============================] - 21s 54ms/step - loss: 0.2989 - acc: 0.9040 - val_loss: 0.6223 - val_acc: 0.8257\n",
            "Epoch 69/100\n",
            "390/390 [==============================] - 21s 53ms/step - loss: 0.2989 - acc: 0.9025 - val_loss: 0.5850 - val_acc: 0.8310\n",
            "Epoch 70/100\n",
            "390/390 [==============================] - 21s 53ms/step - loss: 0.2993 - acc: 0.9027 - val_loss: 0.5975 - val_acc: 0.8289\n",
            "Epoch 71/100\n",
            "390/390 [==============================] - 21s 53ms/step - loss: 0.2936 - acc: 0.9044 - val_loss: 0.5962 - val_acc: 0.8295\n",
            "Epoch 72/100\n",
            "390/390 [==============================] - 21s 54ms/step - loss: 0.2940 - acc: 0.9038 - val_loss: 0.6033 - val_acc: 0.8334\n",
            "Epoch 73/100\n",
            "390/390 [==============================] - 21s 54ms/step - loss: 0.2876 - acc: 0.9082 - val_loss: 0.5914 - val_acc: 0.8287\n",
            "Epoch 74/100\n",
            "390/390 [==============================] - 21s 53ms/step - loss: 0.2783 - acc: 0.9105 - val_loss: 0.6095 - val_acc: 0.8320\n",
            "Epoch 75/100\n",
            "390/390 [==============================] - 21s 54ms/step - loss: 0.2845 - acc: 0.9081 - val_loss: 0.6338 - val_acc: 0.8308\n",
            "Epoch 76/100\n",
            "390/390 [==============================] - 20s 52ms/step - loss: 0.2801 - acc: 0.9080 - val_loss: 0.5973 - val_acc: 0.8369\n",
            "Epoch 77/100\n",
            "390/390 [==============================] - 20s 52ms/step - loss: 0.2831 - acc: 0.9076 - val_loss: 0.6292 - val_acc: 0.8240\n",
            "Epoch 78/100\n",
            "390/390 [==============================] - 21s 53ms/step - loss: 0.2869 - acc: 0.9075 - val_loss: 0.6046 - val_acc: 0.8242\n",
            "Epoch 79/100\n",
            "390/390 [==============================] - 21s 53ms/step - loss: 0.2796 - acc: 0.9090 - val_loss: 0.6172 - val_acc: 0.8314\n",
            "Epoch 80/100\n",
            "390/390 [==============================] - 21s 53ms/step - loss: 0.2840 - acc: 0.9073 - val_loss: 0.6254 - val_acc: 0.8239\n",
            "Epoch 81/100\n",
            "390/390 [==============================] - 21s 53ms/step - loss: 0.2828 - acc: 0.9092 - val_loss: 0.5973 - val_acc: 0.8292\n",
            "Epoch 82/100\n",
            "390/390 [==============================] - 21s 54ms/step - loss: 0.2756 - acc: 0.9118 - val_loss: 0.6155 - val_acc: 0.8269\n",
            "Epoch 83/100\n",
            "390/390 [==============================] - 21s 53ms/step - loss: 0.2807 - acc: 0.9089 - val_loss: 0.5904 - val_acc: 0.8300\n",
            "Epoch 84/100\n",
            "390/390 [==============================] - 21s 54ms/step - loss: 0.2802 - acc: 0.9096 - val_loss: 0.5961 - val_acc: 0.8327\n",
            "Epoch 85/100\n",
            "390/390 [==============================] - 21s 53ms/step - loss: 0.2760 - acc: 0.9118 - val_loss: 0.6029 - val_acc: 0.8322\n",
            "Epoch 86/100\n",
            "390/390 [==============================] - 21s 53ms/step - loss: 0.2843 - acc: 0.9092 - val_loss: 0.5804 - val_acc: 0.8325\n",
            "Epoch 87/100\n",
            "390/390 [==============================] - 21s 54ms/step - loss: 0.2787 - acc: 0.9111 - val_loss: 0.6086 - val_acc: 0.8321\n",
            "Epoch 88/100\n",
            "390/390 [==============================] - 21s 53ms/step - loss: 0.2841 - acc: 0.9110 - val_loss: 0.6192 - val_acc: 0.8288\n",
            "Epoch 89/100\n",
            "390/390 [==============================] - 21s 53ms/step - loss: 0.2687 - acc: 0.9154 - val_loss: 0.6090 - val_acc: 0.8313\n",
            "Epoch 90/100\n",
            "390/390 [==============================] - 21s 54ms/step - loss: 0.2826 - acc: 0.9109 - val_loss: 0.6375 - val_acc: 0.8231\n",
            "Epoch 91/100\n",
            "390/390 [==============================] - 21s 53ms/step - loss: 0.2632 - acc: 0.9172 - val_loss: 0.5758 - val_acc: 0.8352\n",
            "Epoch 92/100\n",
            "390/390 [==============================] - 21s 54ms/step - loss: 0.2710 - acc: 0.9145 - val_loss: 0.6308 - val_acc: 0.8293\n",
            "Epoch 93/100\n",
            "390/390 [==============================] - 21s 54ms/step - loss: 0.2822 - acc: 0.9113 - val_loss: 0.6328 - val_acc: 0.8319\n",
            "Epoch 94/100\n",
            "390/390 [==============================] - 21s 54ms/step - loss: 0.2766 - acc: 0.9133 - val_loss: 0.5783 - val_acc: 0.8352\n",
            "Epoch 95/100\n",
            "390/390 [==============================] - 21s 54ms/step - loss: 0.2592 - acc: 0.9175 - val_loss: 0.5988 - val_acc: 0.8375\n",
            "Epoch 96/100\n",
            "390/390 [==============================] - 21s 53ms/step - loss: 0.2660 - acc: 0.9150 - val_loss: 0.6262 - val_acc: 0.8301\n",
            "Epoch 97/100\n",
            "390/390 [==============================] - 21s 54ms/step - loss: 0.2720 - acc: 0.9136 - val_loss: 0.5929 - val_acc: 0.8294\n",
            "Epoch 98/100\n",
            "390/390 [==============================] - 21s 53ms/step - loss: 0.2638 - acc: 0.9178 - val_loss: 0.6008 - val_acc: 0.8311\n",
            "Epoch 99/100\n",
            "390/390 [==============================] - 21s 53ms/step - loss: 0.2643 - acc: 0.9179 - val_loss: 0.6482 - val_acc: 0.8253\n",
            "Epoch 100/100\n",
            "390/390 [==============================] - 21s 54ms/step - loss: 0.2677 - acc: 0.9180 - val_loss: 0.6092 - val_acc: 0.8296\n",
            "Model took 2109.58 seconds to train\n"
          ],
          "name": "stdout"
        },
        {
          "output_type": "display_data",
          "data": {
            "image/png": "[encoded data removed]",
            "text/plain": [
              "<Figure size 1080x360 with 2 Axes>"
            ]
          },
          "metadata": {
            "tags": []
          }
        },
        {
          "output_type": "stream",
          "text": [
            "Accuracy on test data is: 82.96\n"
          ],
          "name": "stdout"
        }
      ]
    },
    {
      "cell_type": "code",
      "metadata": {
        "id": "0hZs5ov-iUHN",
        "colab_type": "code",
        "colab": {}
      },
      "source": [
        "model.save_weights('assignment6_1.h5')"
      ],
      "execution_count": 0,
      "outputs": []
    },
    {
      "cell_type": "markdown",
      "metadata": {
        "id": "73xGfO6avKZW",
        "colab_type": "text"
      },
      "source": [
        "### Base accuracy with Epochs = 100  is 0.8296"
      ]
    },
    {
      "cell_type": "markdown",
      "metadata": {
        "id": "IfGf_tKtvSrm",
        "colab_type": "text"
      },
      "source": [
        "#### Problem Description : \n",
        "## Fix the network above\n",
        "#### remove dense\n",
        "#### fix kernel scaleup and down (1x1)\n",
        "#### see if all dropouts are properly placed\n",
        "#### follow the guidelines we discussed in the class (\n",
        "#### Get accuracy more than the base accuracy in less number 100 epochs. Hint, you might want to use \"border_mode='same',\""
      ]
    },
    {
      "cell_type": "markdown",
      "metadata": {
        "colab_type": "text",
        "id": "KD9LcQ7KJsJA"
      },
      "source": [
        "## Approach followed to improve the accuracy more than base accuracy in less than 100 epochs. \n",
        "### Based Accuracy is 0.8296. The below model has received 0.8306 at 52nd epoch. The following has been used to achieve more than base accuracy.\n",
        "\n",
        "\n",
        "- Used BatchNormalization\n",
        "- Remove Dropouts after Maxpooling\n",
        "- Removed Dense layers"
      ]
    },
    {
      "cell_type": "code",
      "metadata": {
        "id": "YJBlqTnXvEf2",
        "colab_type": "code",
        "outputId": "34b56426-1535-43a4-86d8-3cdc5d3e7423",
        "colab": {
          "base_uri": "https://localhost:8080/",
          "height": 231
        }
      },
      "source": [
        "from google.colab import drive\n",
        "drive.mount('/content/drive')\n",
        "\n",
        "import os\n",
        "os.chdir('/content/drive/My Drive/EVA3/EVA3-Assignment6')\n",
        "\n",
        "from keras import backend as K\n",
        "import time\n",
        "import matplotlib.pyplot as plt\n",
        "import numpy as np\n",
        "% matplotlib inline\n",
        "np.random.seed(2017) \n",
        "from keras.models import Sequential\n",
        "from keras.layers.convolutional import Convolution2D, MaxPooling2D\n",
        "from keras.layers import Activation, Flatten, Dense, Dropout\n",
        "from keras.layers.normalization import BatchNormalization\n",
        "from keras.utils import np_utils\n",
        "\n",
        "\n",
        "from keras.datasets import cifar10\n",
        "(train_features, train_labels), (test_features, test_labels) = cifar10.load_data()\n",
        "num_train, img_channels, img_rows, img_cols =  train_features.shape\n",
        "num_test, _, _, _ =  test_features.shape\n",
        "num_classes = len(np.unique(train_labels))\n",
        "\n",
        "\n",
        "class_names = ['airplane','automobile','bird','cat','deer',\n",
        "               'dog','frog','horse','ship','truck']\n",
        "fig = plt.figure(figsize=(8,3))\n",
        "for i in range(num_classes):\n",
        "    ax = fig.add_subplot(2, 5, 1 + i, xticks=[], yticks=[])\n",
        "    idx = np.where(train_labels[:]==i)[0]\n",
        "    features_idx = train_features[idx,::]\n",
        "    img_num = np.random.randint(features_idx.shape[0])\n",
        "    im = features_idx[img_num]\n",
        "    ax.set_title(class_names[i])\n",
        "    plt.imshow(im)\n",
        "plt.show()\n",
        "\n",
        "\n",
        "def plot_model_history(model_history):\n",
        "    fig, axs = plt.subplots(1,2,figsize=(15,5))\n",
        "    # summarize history for accuracy\n",
        "    axs[0].plot(range(1,len(model_history.history['acc'])+1),model_history.history['acc'])\n",
        "    axs[0].plot(range(1,len(model_history.history['val_acc'])+1),model_history.history['val_acc'])\n",
        "    axs[0].set_title('Model Accuracy')\n",
        "    axs[0].set_ylabel('Accuracy')\n",
        "    axs[0].set_xlabel('Epoch')\n",
        "    axs[0].set_xticks(np.arange(1,len(model_history.history['acc'])+1),len(model_history.history['acc'])/10)\n",
        "    axs[0].legend(['train', 'val'], loc='best')\n",
        "    # summarize history for loss\n",
        "    axs[1].plot(range(1,len(model_history.history['loss'])+1),model_history.history['loss'])\n",
        "    axs[1].plot(range(1,len(model_history.history['val_loss'])+1),model_history.history['val_loss'])\n",
        "    axs[1].set_title('Model Loss')\n",
        "    axs[1].set_ylabel('Loss')\n",
        "    axs[1].set_xlabel('Epoch')\n",
        "    axs[1].set_xticks(np.arange(1,len(model_history.history['loss'])+1),len(model_history.history['loss'])/10)\n",
        "    axs[1].legend(['train', 'val'], loc='best')\n",
        "    plt.show()\n",
        "\n",
        "\n",
        "def accuracy(test_x, test_y, model):\n",
        "    result = model.predict(test_x)\n",
        "    predicted_class = np.argmax(result, axis=1)\n",
        "    true_class = np.argmax(test_y, axis=1)\n",
        "    num_correct = np.sum(predicted_class == true_class) \n",
        "    accuracy = float(num_correct)/result.shape[0]\n",
        "    return (accuracy * 100)\n",
        "\n",
        "\n",
        "train_features = train_features.astype('float32')/255\n",
        "test_features = test_features.astype('float32')/255\n",
        "# convert class labels to binary class labels\n",
        "train_labels = np_utils.to_categorical(train_labels, num_classes)\n",
        "test_labels = np_utils.to_categorical(test_labels, num_classes)\n",
        "\n",
        "\n"
      ],
      "execution_count": 0,
      "outputs": [
        {
          "output_type": "stream",
          "text": [
            "Drive already mounted at /content/drive; to attempt to forcibly remount, call drive.mount(\"/content/drive\", force_remount=True).\n"
          ],
          "name": "stdout"
        },
        {
          "output_type": "display_data",
          "data": {
            "image/png": "[encoded data removed]",
            "text/plain": [
              "<Figure size 576x216 with 10 Axes>"
            ]
          },
          "metadata": {
            "tags": []
          }
        }
      ]
    },
    {
      "cell_type": "code",
      "metadata": {
        "id": "98o7e3vnwqyu",
        "colab_type": "code",
        "outputId": "9cbcf172-f421-4ef5-9f9d-0ead8dbcb62d",
        "colab": {
          "base_uri": "https://localhost:8080/",
          "height": 1000
        }
      },
      "source": [
        "# Define the model\n",
        "model = Sequential()\n",
        "model.add(Convolution2D(48, 3, 3, border_mode='same', input_shape=(32, 32, 3)))\n",
        "model.add(Activation('relu'))\n",
        "\n",
        "model.add(Convolution2D(48, 3, 3))\n",
        "model.add(BatchNormalization())\n",
        "model.add(Activation('relu'))\n",
        "model.add(MaxPooling2D(pool_size=(2, 2)))\n",
        "\n",
        "\n",
        "model.add(Convolution2D(96, 3, 3, border_mode='same'))\n",
        "model.add(BatchNormalization())\n",
        "model.add(Activation('relu'))\n",
        "model.add(Dropout(0.25))\n",
        "\n",
        "model.add(Convolution2D(96, 3, 3))\n",
        "model.add(Activation('relu'))\n",
        "model.add(MaxPooling2D(pool_size=(2, 2)))\n",
        "\n",
        "model.add(Convolution2D(192, 3, 3, border_mode='same'))\n",
        "model.add(BatchNormalization())\n",
        "model.add(Activation('relu'))\n",
        "model.add(Dropout(0.25))\n",
        "\n",
        "model.add(Convolution2D(192, 3, 3))\n",
        "model.add(Activation('relu'))\n",
        "model.add(MaxPooling2D(pool_size=(2, 2)))\n",
        "\n",
        "model.add(Convolution2D(10, 2, 2))\n",
        "model.add(Activation('relu'))\n",
        "\n",
        "model.add(Flatten())\n",
        "model.add(Activation('softmax'))\n",
        "# # Compile the model\n",
        "model.compile(optimizer='adam', loss='categorical_crossentropy', metrics=['accuracy'])\n",
        "\n",
        "\n",
        "model.summary()\n",
        "\n",
        "\n"
      ],
      "execution_count": 0,
      "outputs": [
        {
          "output_type": "stream",
          "text": [
            "/usr/local/lib/python3.6/dist-packages/ipykernel_launcher.py:2: UserWarning: Update your `Conv2D` call to the Keras 2 API: `Conv2D(48, (3, 3), input_shape=(32, 32, 3..., padding=\"same\")`\n",
            "  \n",
            "/usr/local/lib/python3.6/dist-packages/ipykernel_launcher.py:5: UserWarning: Update your `Conv2D` call to the Keras 2 API: `Conv2D(48, (3, 3))`\n",
            "  \"\"\"\n"
          ],
          "name": "stderr"
        },
        {
          "output_type": "stream",
          "text": [
            "WARNING:tensorflow:From /usr/local/lib/python3.6/dist-packages/keras/backend/tensorflow_backend.py:2041: The name tf.nn.fused_batch_norm is deprecated. Please use tf.compat.v1.nn.fused_batch_norm instead.\n",
            "\n"
          ],
          "name": "stdout"
        },
        {
          "output_type": "stream",
          "text": [
            "WARNING:tensorflow:From /usr/local/lib/python3.6/dist-packages/keras/backend/tensorflow_backend.py:2041: The name tf.nn.fused_batch_norm is deprecated. Please use tf.compat.v1.nn.fused_batch_norm instead.\n",
            "\n",
            "/usr/local/lib/python3.6/dist-packages/ipykernel_launcher.py:11: UserWarning: Update your `Conv2D` call to the Keras 2 API: `Conv2D(96, (3, 3), padding=\"same\")`\n",
            "  # This is added back by InteractiveShellApp.init_path()\n",
            "/usr/local/lib/python3.6/dist-packages/ipykernel_launcher.py:16: UserWarning: Update your `Conv2D` call to the Keras 2 API: `Conv2D(96, (3, 3))`\n",
            "  app.launch_new_instance()\n",
            "/usr/local/lib/python3.6/dist-packages/ipykernel_launcher.py:20: UserWarning: Update your `Conv2D` call to the Keras 2 API: `Conv2D(192, (3, 3), padding=\"same\")`\n"
          ],
          "name": "stderr"
        },
        {
          "output_type": "stream",
          "text": [
            "Model: \"sequential_10\"\n",
            "_________________________________________________________________\n",
            "Layer (type)                 Output Shape              Param #   \n",
            "=================================================================\n",
            "conv2d_61 (Conv2D)           (None, 32, 32, 48)        1344      \n",
            "_________________________________________________________________\n",
            "activation_69 (Activation)   (None, 32, 32, 48)        0         \n",
            "_________________________________________________________________\n",
            "conv2d_62 (Conv2D)           (None, 30, 30, 48)        20784     \n",
            "_________________________________________________________________\n",
            "batch_normalization_1 (Batch (None, 30, 30, 48)        192       \n",
            "_________________________________________________________________\n",
            "activation_70 (Activation)   (None, 30, 30, 48)        0         \n",
            "_________________________________________________________________\n",
            "max_pooling2d_28 (MaxPooling (None, 15, 15, 48)        0         \n",
            "_________________________________________________________________\n",
            "conv2d_63 (Conv2D)           (None, 15, 15, 96)        41568     \n",
            "_________________________________________________________________\n",
            "batch_normalization_2 (Batch (None, 15, 15, 96)        384       \n",
            "_________________________________________________________________\n",
            "activation_71 (Activation)   (None, 15, 15, 96)        0         \n",
            "_________________________________________________________________\n",
            "dropout_29 (Dropout)         (None, 15, 15, 96)        0         \n",
            "_________________________________________________________________\n",
            "conv2d_64 (Conv2D)           (None, 13, 13, 96)        83040     \n",
            "_________________________________________________________________\n",
            "activation_72 (Activation)   (None, 13, 13, 96)        0         \n",
            "_________________________________________________________________\n",
            "max_pooling2d_29 (MaxPooling (None, 6, 6, 96)          0         \n",
            "_________________________________________________________________\n",
            "conv2d_65 (Conv2D)           (None, 6, 6, 192)         166080    \n",
            "_________________________________________________________________\n",
            "batch_normalization_3 (Batch (None, 6, 6, 192)         768       \n",
            "_________________________________________________________________\n",
            "activation_73 (Activation)   (None, 6, 6, 192)         0         \n",
            "_________________________________________________________________\n",
            "dropout_30 (Dropout)         (None, 6, 6, 192)         0         \n",
            "_________________________________________________________________\n",
            "conv2d_66 (Conv2D)           (None, 4, 4, 192)         331968    \n",
            "_________________________________________________________________\n",
            "activation_74 (Activation)   (None, 4, 4, 192)         0         \n",
            "_________________________________________________________________\n",
            "max_pooling2d_30 (MaxPooling (None, 2, 2, 192)         0         \n",
            "_________________________________________________________________\n",
            "conv2d_67 (Conv2D)           (None, 1, 1, 10)          7690      \n",
            "_________________________________________________________________\n",
            "activation_75 (Activation)   (None, 1, 1, 10)          0         \n",
            "_________________________________________________________________\n",
            "flatten_8 (Flatten)          (None, 10)                0         \n",
            "_________________________________________________________________\n",
            "activation_76 (Activation)   (None, 10)                0         \n",
            "=================================================================\n",
            "Total params: 653,818\n",
            "Trainable params: 653,146\n",
            "Non-trainable params: 672\n",
            "_________________________________________________________________\n"
          ],
          "name": "stdout"
        },
        {
          "output_type": "stream",
          "text": [
            "/usr/local/lib/python3.6/dist-packages/ipykernel_launcher.py:25: UserWarning: Update your `Conv2D` call to the Keras 2 API: `Conv2D(192, (3, 3))`\n",
            "/usr/local/lib/python3.6/dist-packages/ipykernel_launcher.py:29: UserWarning: Update your `Conv2D` call to the Keras 2 API: `Conv2D(10, (2, 2))`\n"
          ],
          "name": "stderr"
        }
      ]
    },
    {
      "cell_type": "code",
      "metadata": {
        "id": "VcrzyckSwsZt",
        "colab_type": "code",
        "outputId": "96245276-d852-4701-e74f-14bf76c4a718",
        "colab": {
          "base_uri": "https://localhost:8080/",
          "height": 1000
        }
      },
      "source": [
        "#Training\n",
        "from keras.preprocessing.image import ImageDataGenerator\n",
        "\n",
        "datagen = ImageDataGenerator(zoom_range=0.0, \n",
        "                             horizontal_flip=False)\n",
        "\n",
        "\n",
        "# train the model\n",
        "start = time.time()\n",
        "# Train the model\n",
        "model_info = model.fit_generator(datagen.flow(train_features, train_labels, batch_size = 128),\n",
        "                                 samples_per_epoch = train_features.shape[0], nb_epoch = 100, \n",
        "                                 validation_data = (test_features, test_labels), verbose=1)\n",
        "end = time.time()\n",
        "print (\"Model took %0.2f seconds to train\"%(end - start))\n",
        "# plot model history\n",
        "plot_model_history(model_info)\n",
        "# compute test accuracy\n",
        "print (\"Accuracy on test data is: %0.2f\"%accuracy(test_features, test_labels, model))\n"
      ],
      "execution_count": 0,
      "outputs": [
        {
          "output_type": "stream",
          "text": [
            "/usr/local/lib/python3.6/dist-packages/ipykernel_launcher.py:12: UserWarning: The semantics of the Keras 2 argument `steps_per_epoch` is not the same as the Keras 1 argument `samples_per_epoch`. `steps_per_epoch` is the number of batches to draw from the generator at each epoch. Basically steps_per_epoch = samples_per_epoch/batch_size. Similarly `nb_val_samples`->`validation_steps` and `val_samples`->`steps` arguments have changed. Update your method calls accordingly.\n",
            "  if sys.path[0] == '':\n",
            "/usr/local/lib/python3.6/dist-packages/ipykernel_launcher.py:12: UserWarning: Update your `fit_generator` call to the Keras 2 API: `fit_generator(<keras_pre..., validation_data=(array([[[..., verbose=1, steps_per_epoch=390, epochs=100)`\n",
            "  if sys.path[0] == '':\n"
          ],
          "name": "stderr"
        },
        {
          "output_type": "stream",
          "text": [
            "Epoch 1/100\n",
            "390/390 [==============================] - 27s 69ms/step - loss: 2.1875 - acc: 0.1556 - val_loss: 2.1362 - val_acc: 0.1628\n",
            "Epoch 2/100\n",
            "390/390 [==============================] - 25s 64ms/step - loss: 2.0389 - acc: 0.2135 - val_loss: 2.1438 - val_acc: 0.2546\n",
            "Epoch 3/100\n",
            "390/390 [==============================] - 25s 64ms/step - loss: 1.5697 - acc: 0.4262 - val_loss: 1.4264 - val_acc: 0.5185\n",
            "Epoch 4/100\n",
            "390/390 [==============================] - 25s 64ms/step - loss: 1.0511 - acc: 0.6347 - val_loss: 1.3746 - val_acc: 0.5653\n",
            "Epoch 5/100\n",
            "390/390 [==============================] - 25s 64ms/step - loss: 0.8395 - acc: 0.7072 - val_loss: 1.1551 - val_acc: 0.6176\n",
            "Epoch 6/100\n",
            "390/390 [==============================] - 25s 64ms/step - loss: 0.7485 - acc: 0.7351 - val_loss: 1.2743 - val_acc: 0.6017\n",
            "Epoch 7/100\n",
            "390/390 [==============================] - 25s 64ms/step - loss: 0.6848 - acc: 0.7552 - val_loss: 0.9557 - val_acc: 0.6730\n",
            "Epoch 8/100\n",
            "390/390 [==============================] - 25s 63ms/step - loss: 0.6344 - acc: 0.7730 - val_loss: 0.7844 - val_acc: 0.7291\n",
            "Epoch 9/100\n",
            "390/390 [==============================] - 25s 63ms/step - loss: 0.5927 - acc: 0.7876 - val_loss: 0.8252 - val_acc: 0.7135\n",
            "Epoch 10/100\n",
            "390/390 [==============================] - 25s 63ms/step - loss: 0.5531 - acc: 0.7993 - val_loss: 0.9659 - val_acc: 0.6735\n",
            "Epoch 11/100\n",
            "390/390 [==============================] - 24s 63ms/step - loss: 0.5233 - acc: 0.8086 - val_loss: 0.8751 - val_acc: 0.7044\n",
            "Epoch 12/100\n",
            "390/390 [==============================] - 25s 63ms/step - loss: 0.4923 - acc: 0.8202 - val_loss: 0.8335 - val_acc: 0.7302\n",
            "Epoch 13/100\n",
            "390/390 [==============================] - 25s 64ms/step - loss: 0.4677 - acc: 0.8281 - val_loss: 0.8615 - val_acc: 0.7162\n",
            "Epoch 14/100\n",
            "390/390 [==============================] - 25s 63ms/step - loss: 0.4505 - acc: 0.8321 - val_loss: 0.8576 - val_acc: 0.7305\n",
            "Epoch 15/100\n",
            "390/390 [==============================] - 25s 63ms/step - loss: 0.4287 - acc: 0.8385 - val_loss: 0.8677 - val_acc: 0.7173\n",
            "Epoch 16/100\n",
            "390/390 [==============================] - 25s 63ms/step - loss: 0.4137 - acc: 0.8443 - val_loss: 0.9206 - val_acc: 0.7161\n",
            "Epoch 17/100\n",
            "390/390 [==============================] - 25s 63ms/step - loss: 0.4015 - acc: 0.8478 - val_loss: 0.8723 - val_acc: 0.7282\n",
            "Epoch 18/100\n",
            "390/390 [==============================] - 25s 63ms/step - loss: 0.3984 - acc: 0.8482 - val_loss: 0.9981 - val_acc: 0.6991\n",
            "Epoch 19/100\n",
            "390/390 [==============================] - 25s 63ms/step - loss: 0.3800 - acc: 0.8542 - val_loss: 0.9536 - val_acc: 0.7303\n",
            "Epoch 20/100\n",
            "390/390 [==============================] - 25s 64ms/step - loss: 0.3688 - acc: 0.8582 - val_loss: 0.8234 - val_acc: 0.7414\n",
            "Epoch 21/100\n",
            "390/390 [==============================] - 25s 64ms/step - loss: 0.3570 - acc: 0.8609 - val_loss: 0.8620 - val_acc: 0.7356\n",
            "Epoch 22/100\n",
            "390/390 [==============================] - 25s 64ms/step - loss: 0.3552 - acc: 0.8612 - val_loss: 0.9492 - val_acc: 0.7131\n",
            "Epoch 23/100\n",
            "390/390 [==============================] - 25s 63ms/step - loss: 0.3479 - acc: 0.8639 - val_loss: 0.9472 - val_acc: 0.7273\n",
            "Epoch 24/100\n",
            "390/390 [==============================] - 25s 64ms/step - loss: 0.3397 - acc: 0.8667 - val_loss: 0.8769 - val_acc: 0.7380\n",
            "Epoch 25/100\n",
            "390/390 [==============================] - 25s 63ms/step - loss: 0.3411 - acc: 0.8660 - val_loss: 0.9222 - val_acc: 0.7424\n",
            "Epoch 26/100\n",
            "390/390 [==============================] - 25s 63ms/step - loss: 0.3347 - acc: 0.8684 - val_loss: 0.9400 - val_acc: 0.7323\n",
            "Epoch 27/100\n",
            "390/390 [==============================] - 25s 64ms/step - loss: 0.3285 - acc: 0.8711 - val_loss: 0.9583 - val_acc: 0.7424\n",
            "Epoch 28/100\n",
            "390/390 [==============================] - 25s 64ms/step - loss: 0.3285 - acc: 0.8700 - val_loss: 0.9745 - val_acc: 0.7266\n",
            "Epoch 29/100\n",
            "390/390 [==============================] - 25s 64ms/step - loss: 0.3308 - acc: 0.8699 - val_loss: 1.0277 - val_acc: 0.7312\n",
            "Epoch 30/100\n",
            "390/390 [==============================] - 25s 63ms/step - loss: 0.3195 - acc: 0.8732 - val_loss: 1.0083 - val_acc: 0.7315\n",
            "Epoch 31/100\n",
            "390/390 [==============================] - 25s 64ms/step - loss: 0.3125 - acc: 0.8754 - val_loss: 0.9086 - val_acc: 0.7398\n",
            "Epoch 32/100\n",
            "390/390 [==============================] - 25s 65ms/step - loss: 0.3204 - acc: 0.8729 - val_loss: 1.0083 - val_acc: 0.7373\n",
            "Epoch 33/100\n",
            "390/390 [==============================] - 25s 64ms/step - loss: 0.3168 - acc: 0.8741 - val_loss: 0.9571 - val_acc: 0.7438\n",
            "Epoch 34/100\n",
            "390/390 [==============================] - 25s 64ms/step - loss: 0.3103 - acc: 0.8754 - val_loss: 0.9410 - val_acc: 0.7395\n",
            "Epoch 35/100\n",
            "390/390 [==============================] - 25s 64ms/step - loss: 0.3137 - acc: 0.8746 - val_loss: 0.9687 - val_acc: 0.7275\n",
            "Epoch 36/100\n",
            "390/390 [==============================] - 25s 63ms/step - loss: 0.3087 - acc: 0.8763 - val_loss: 0.9483 - val_acc: 0.7404\n",
            "Epoch 37/100\n",
            "390/390 [==============================] - 25s 64ms/step - loss: 0.3065 - acc: 0.8760 - val_loss: 1.0531 - val_acc: 0.7354\n",
            "Epoch 38/100\n",
            "390/390 [==============================] - 25s 63ms/step - loss: 0.3004 - acc: 0.8789 - val_loss: 0.9094 - val_acc: 0.7514\n",
            "Epoch 39/100\n",
            "390/390 [==============================] - 25s 64ms/step - loss: 0.3036 - acc: 0.8782 - val_loss: 0.9532 - val_acc: 0.7269\n",
            "Epoch 40/100\n",
            "390/390 [==============================] - 25s 64ms/step - loss: 0.3075 - acc: 0.8767 - val_loss: 1.2481 - val_acc: 0.7015\n",
            "Epoch 41/100\n",
            "390/390 [==============================] - 25s 64ms/step - loss: 0.2968 - acc: 0.8802 - val_loss: 0.9234 - val_acc: 0.7408\n",
            "Epoch 42/100\n",
            "390/390 [==============================] - 25s 63ms/step - loss: 0.2968 - acc: 0.8794 - val_loss: 1.1277 - val_acc: 0.7310\n",
            "Epoch 43/100\n",
            "390/390 [==============================] - 25s 64ms/step - loss: 0.2957 - acc: 0.8809 - val_loss: 0.9409 - val_acc: 0.7551\n",
            "Epoch 44/100\n",
            "390/390 [==============================] - 25s 64ms/step - loss: 0.2933 - acc: 0.8810 - val_loss: 1.1161 - val_acc: 0.7227\n",
            "Epoch 45/100\n",
            "390/390 [==============================] - 25s 63ms/step - loss: 0.2914 - acc: 0.8817 - val_loss: 0.9882 - val_acc: 0.7427\n",
            "Epoch 46/100\n",
            "390/390 [==============================] - 25s 63ms/step - loss: 0.2938 - acc: 0.8801 - val_loss: 0.9624 - val_acc: 0.7417\n",
            "Epoch 47/100\n",
            "390/390 [==============================] - 25s 63ms/step - loss: 0.2959 - acc: 0.8796 - val_loss: 0.9896 - val_acc: 0.7400\n",
            "Epoch 48/100\n",
            "390/390 [==============================] - 24s 63ms/step - loss: 0.2910 - acc: 0.8815 - val_loss: 0.9479 - val_acc: 0.7544\n",
            "Epoch 49/100\n",
            "390/390 [==============================] - 25s 63ms/step - loss: 0.2913 - acc: 0.8812 - val_loss: 1.1906 - val_acc: 0.7093\n",
            "Epoch 50/100\n",
            "390/390 [==============================] - 25s 63ms/step - loss: 0.2896 - acc: 0.8826 - val_loss: 1.0395 - val_acc: 0.7459\n",
            "Epoch 51/100\n",
            "390/390 [==============================] - 25s 63ms/step - loss: 0.2901 - acc: 0.8815 - val_loss: 1.3012 - val_acc: 0.7094\n",
            "Epoch 52/100\n",
            "390/390 [==============================] - 25s 63ms/step - loss: 0.2064 - acc: 0.9192 - val_loss: 0.8034 - val_acc: 0.8306\n",
            "Epoch 53/100\n",
            "390/390 [==============================] - 25s 63ms/step - loss: 0.0679 - acc: 0.9790 - val_loss: 0.8378 - val_acc: 0.8255\n",
            "Epoch 54/100\n",
            "390/390 [==============================] - 24s 63ms/step - loss: 0.0644 - acc: 0.9802 - val_loss: 0.8379 - val_acc: 0.8322\n",
            "Epoch 55/100\n",
            "390/390 [==============================] - 24s 62ms/step - loss: 0.0698 - acc: 0.9781 - val_loss: 0.8393 - val_acc: 0.8263\n",
            "Epoch 56/100\n",
            "390/390 [==============================] - 24s 63ms/step - loss: 0.0635 - acc: 0.9796 - val_loss: 0.7964 - val_acc: 0.8392\n",
            "Epoch 57/100\n",
            "390/390 [==============================] - 25s 63ms/step - loss: 0.0552 - acc: 0.9825 - val_loss: 0.8804 - val_acc: 0.8242\n",
            "Epoch 58/100\n",
            "390/390 [==============================] - 25s 64ms/step - loss: 0.0591 - acc: 0.9816 - val_loss: 0.8009 - val_acc: 0.8398\n",
            "Epoch 59/100\n",
            "390/390 [==============================] - 24s 63ms/step - loss: 0.0581 - acc: 0.9814 - val_loss: 0.9474 - val_acc: 0.8224\n",
            "Epoch 60/100\n",
            "390/390 [==============================] - 24s 63ms/step - loss: 0.0579 - acc: 0.9818 - val_loss: 0.8161 - val_acc: 0.8406\n",
            "Epoch 61/100\n",
            "390/390 [==============================] - 25s 64ms/step - loss: 0.0557 - acc: 0.9821 - val_loss: 0.8235 - val_acc: 0.8343\n",
            "Epoch 62/100\n",
            "390/390 [==============================] - 25s 63ms/step - loss: 0.0552 - acc: 0.9821 - val_loss: 0.8897 - val_acc: 0.8300\n",
            "Epoch 63/100\n",
            "390/390 [==============================] - 25s 63ms/step - loss: 0.0518 - acc: 0.9831 - val_loss: 0.8786 - val_acc: 0.8251\n",
            "Epoch 64/100\n",
            "390/390 [==============================] - 25s 63ms/step - loss: 0.0523 - acc: 0.9820 - val_loss: 0.8441 - val_acc: 0.8322\n",
            "Epoch 65/100\n",
            "390/390 [==============================] - 25s 64ms/step - loss: 0.0499 - acc: 0.9837 - val_loss: 0.8292 - val_acc: 0.8409\n",
            "Epoch 66/100\n",
            "390/390 [==============================] - 25s 64ms/step - loss: 0.0506 - acc: 0.9835 - val_loss: 0.9066 - val_acc: 0.8347\n",
            "Epoch 67/100\n",
            "390/390 [==============================] - 25s 64ms/step - loss: 0.0492 - acc: 0.9832 - val_loss: 0.9469 - val_acc: 0.8212\n",
            "Epoch 68/100\n",
            "390/390 [==============================] - 25s 65ms/step - loss: 0.0452 - acc: 0.9846 - val_loss: 0.8602 - val_acc: 0.8332\n",
            "Epoch 69/100\n",
            "390/390 [==============================] - 25s 64ms/step - loss: 0.0466 - acc: 0.9845 - val_loss: 0.8596 - val_acc: 0.8215\n",
            "Epoch 70/100\n",
            "390/390 [==============================] - 25s 64ms/step - loss: 0.0476 - acc: 0.9844 - val_loss: 0.8799 - val_acc: 0.8337\n",
            "Epoch 71/100\n",
            "390/390 [==============================] - 25s 65ms/step - loss: 0.0472 - acc: 0.9842 - val_loss: 0.8706 - val_acc: 0.8393\n",
            "Epoch 72/100\n",
            "390/390 [==============================] - 25s 65ms/step - loss: 0.0448 - acc: 0.9851 - val_loss: 0.9402 - val_acc: 0.8298\n",
            "Epoch 73/100\n",
            "390/390 [==============================] - 25s 65ms/step - loss: 0.0449 - acc: 0.9846 - val_loss: 0.7939 - val_acc: 0.8400\n",
            "Epoch 74/100\n",
            "390/390 [==============================] - 25s 65ms/step - loss: 0.0436 - acc: 0.9855 - val_loss: 1.0221 - val_acc: 0.8167\n",
            "Epoch 75/100\n",
            "390/390 [==============================] - 25s 65ms/step - loss: 0.0445 - acc: 0.9847 - val_loss: 0.9764 - val_acc: 0.8104\n",
            "Epoch 76/100\n",
            "390/390 [==============================] - 25s 64ms/step - loss: 0.0394 - acc: 0.9874 - val_loss: 0.9182 - val_acc: 0.8341\n",
            "Epoch 77/100\n",
            "390/390 [==============================] - 25s 64ms/step - loss: 0.0400 - acc: 0.9868 - val_loss: 0.8613 - val_acc: 0.8422\n",
            "Epoch 78/100\n",
            "390/390 [==============================] - 25s 63ms/step - loss: 0.0458 - acc: 0.9841 - val_loss: 0.9573 - val_acc: 0.8240\n",
            "Epoch 79/100\n",
            "390/390 [==============================] - 25s 63ms/step - loss: 0.0424 - acc: 0.9860 - val_loss: 0.8830 - val_acc: 0.8428\n",
            "Epoch 80/100\n",
            "390/390 [==============================] - 24s 63ms/step - loss: 0.0426 - acc: 0.9856 - val_loss: 0.9185 - val_acc: 0.8309\n",
            "Epoch 81/100\n",
            "390/390 [==============================] - 25s 64ms/step - loss: 0.0412 - acc: 0.9862 - val_loss: 0.8916 - val_acc: 0.8316\n",
            "Epoch 82/100\n",
            "390/390 [==============================] - 25s 64ms/step - loss: 0.0369 - acc: 0.9881 - val_loss: 0.9513 - val_acc: 0.8353\n",
            "Epoch 83/100\n",
            "390/390 [==============================] - 25s 64ms/step - loss: 0.0417 - acc: 0.9857 - val_loss: 0.9020 - val_acc: 0.8389\n",
            "Epoch 84/100\n",
            "390/390 [==============================] - 25s 64ms/step - loss: 0.0383 - acc: 0.9868 - val_loss: 0.9444 - val_acc: 0.8327\n",
            "Epoch 85/100\n",
            "390/390 [==============================] - 25s 63ms/step - loss: 0.0394 - acc: 0.9863 - val_loss: 0.8790 - val_acc: 0.8408\n",
            "Epoch 86/100\n",
            "390/390 [==============================] - 25s 63ms/step - loss: 0.0408 - acc: 0.9862 - val_loss: 0.8766 - val_acc: 0.8392\n",
            "Epoch 87/100\n",
            "390/390 [==============================] - 25s 63ms/step - loss: 0.0352 - acc: 0.9885 - val_loss: 0.8714 - val_acc: 0.8431\n",
            "Epoch 88/100\n",
            "390/390 [==============================] - 25s 63ms/step - loss: 0.0341 - acc: 0.9885 - val_loss: 0.8849 - val_acc: 0.8327\n",
            "Epoch 89/100\n",
            "390/390 [==============================] - 25s 64ms/step - loss: 0.0381 - acc: 0.9870 - val_loss: 0.9326 - val_acc: 0.8340\n",
            "Epoch 90/100\n",
            "390/390 [==============================] - 25s 64ms/step - loss: 0.0336 - acc: 0.9882 - val_loss: 0.9077 - val_acc: 0.8393\n",
            "Epoch 91/100\n",
            "390/390 [==============================] - 25s 64ms/step - loss: 0.0345 - acc: 0.9880 - val_loss: 0.8925 - val_acc: 0.8401\n",
            "Epoch 92/100\n",
            "390/390 [==============================] - 25s 65ms/step - loss: 0.0353 - acc: 0.9880 - val_loss: 0.9189 - val_acc: 0.8345\n",
            "Epoch 93/100\n",
            "390/390 [==============================] - 25s 64ms/step - loss: 0.0323 - acc: 0.9888 - val_loss: 0.9135 - val_acc: 0.8358\n",
            "Epoch 94/100\n",
            "390/390 [==============================] - 25s 64ms/step - loss: 0.0360 - acc: 0.9883 - val_loss: 0.9412 - val_acc: 0.8299\n",
            "Epoch 95/100\n",
            "390/390 [==============================] - 25s 65ms/step - loss: 0.0352 - acc: 0.9883 - val_loss: 0.9678 - val_acc: 0.8282\n",
            "Epoch 96/100\n",
            "390/390 [==============================] - 25s 65ms/step - loss: 0.0329 - acc: 0.9885 - val_loss: 0.8741 - val_acc: 0.8457\n",
            "Epoch 97/100\n",
            "390/390 [==============================] - 25s 64ms/step - loss: 0.0342 - acc: 0.9887 - val_loss: 0.8914 - val_acc: 0.8420\n",
            "Epoch 98/100\n",
            "390/390 [==============================] - 26s 65ms/step - loss: 0.0315 - acc: 0.9892 - val_loss: 0.9281 - val_acc: 0.8396\n",
            "Epoch 99/100\n",
            "390/390 [==============================] - 26s 66ms/step - loss: 0.0332 - acc: 0.9889 - val_loss: 1.0226 - val_acc: 0.8201\n",
            "Epoch 100/100\n",
            "390/390 [==============================] - 26s 66ms/step - loss: 0.0333 - acc: 0.9892 - val_loss: 0.9227 - val_acc: 0.8369\n",
            "Model took 2486.97 seconds to train\n"
          ],
          "name": "stdout"
        },
        {
          "output_type": "display_data",
          "data": {
            "image/png": "[encoded data removed]",
            "text/plain": [
              "<Figure size 1080x360 with 2 Axes>"
            ]
          },
          "metadata": {
            "tags": []
          }
        },
        {
          "output_type": "stream",
          "text": [
            "Accuracy on test data is: 83.69\n"
          ],
          "name": "stdout"
        }
      ]
    },
    {
      "cell_type": "code",
      "metadata": {
        "id": "iapJtCJLu9Wg",
        "colab_type": "code",
        "colab": {}
      },
      "source": [
        ""
      ],
      "execution_count": 0,
      "outputs": []
    },
    {
      "cell_type": "markdown",
      "metadata": {
        "id": "gP5H1GGcwwpl",
        "colab_type": "text"
      },
      "source": [
        "#### Completed Original code"
      ]
    },
    {
      "cell_type": "code",
      "metadata": {
        "id": "WjC8sbT7wwF_",
        "colab_type": "code",
        "colab": {}
      },
      "source": [
        "# from google.colab import drive\n",
        "# drive.mount('/content/drive')\n",
        "\n",
        "# import os\n",
        "# os.chdir('/content/drive/My Drive/EVA3/EVA3-Assignment6')\n",
        "\n",
        "# from keras import backend as K\n",
        "# import time\n",
        "# import matplotlib.pyplot as plt\n",
        "# import numpy as np\n",
        "# % matplotlib inline\n",
        "# np.random.seed(2017) \n",
        "# from keras.models import Sequential\n",
        "# from keras.layers.convolutional import Convolution2D, MaxPooling2D\n",
        "# from keras.layers import Activation, Flatten, Dense, Dropout\n",
        "# from keras.layers.normalization import BatchNormalization\n",
        "# from keras.utils import np_utils\n",
        "\n",
        "\n",
        "# from keras.datasets import cifar10\n",
        "# (train_features, train_labels), (test_features, test_labels) = cifar10.load_data()\n",
        "# num_train, img_channels, img_rows, img_cols =  train_features.shape\n",
        "# num_test, _, _, _ =  test_features.shape\n",
        "# num_classes = len(np.unique(train_labels))\n",
        "\n",
        "\n",
        "# class_names = ['airplane','automobile','bird','cat','deer',\n",
        "#                'dog','frog','horse','ship','truck']\n",
        "# fig = plt.figure(figsize=(8,3))\n",
        "# for i in range(num_classes):\n",
        "#     ax = fig.add_subplot(2, 5, 1 + i, xticks=[], yticks=[])\n",
        "#     idx = np.where(train_labels[:]==i)[0]\n",
        "#     features_idx = train_features[idx,::]\n",
        "#     img_num = np.random.randint(features_idx.shape[0])\n",
        "#     im = features_idx[img_num]\n",
        "#     ax.set_title(class_names[i])\n",
        "#     plt.imshow(im)\n",
        "# plt.show()\n",
        "\n",
        "\n",
        "# def plot_model_history(model_history):\n",
        "#     fig, axs = plt.subplots(1,2,figsize=(15,5))\n",
        "#     # summarize history for accuracy\n",
        "#     axs[0].plot(range(1,len(model_history.history['acc'])+1),model_history.history['acc'])\n",
        "#     axs[0].plot(range(1,len(model_history.history['val_acc'])+1),model_history.history['val_acc'])\n",
        "#     axs[0].set_title('Model Accuracy')\n",
        "#     axs[0].set_ylabel('Accuracy')\n",
        "#     axs[0].set_xlabel('Epoch')\n",
        "#     axs[0].set_xticks(np.arange(1,len(model_history.history['acc'])+1),len(model_history.history['acc'])/10)\n",
        "#     axs[0].legend(['train', 'val'], loc='best')\n",
        "#     # summarize history for loss\n",
        "#     axs[1].plot(range(1,len(model_history.history['loss'])+1),model_history.history['loss'])\n",
        "#     axs[1].plot(range(1,len(model_history.history['val_loss'])+1),model_history.history['val_loss'])\n",
        "#     axs[1].set_title('Model Loss')\n",
        "#     axs[1].set_ylabel('Loss')\n",
        "#     axs[1].set_xlabel('Epoch')\n",
        "#     axs[1].set_xticks(np.arange(1,len(model_history.history['loss'])+1),len(model_history.history['loss'])/10)\n",
        "#     axs[1].legend(['train', 'val'], loc='best')\n",
        "#     plt.show()\n",
        "\n",
        "\n",
        "# def accuracy(test_x, test_y, model):\n",
        "#     result = model.predict(test_x)\n",
        "#     predicted_class = np.argmax(result, axis=1)\n",
        "#     true_class = np.argmax(test_y, axis=1)\n",
        "#     num_correct = np.sum(predicted_class == true_class) \n",
        "#     accuracy = float(num_correct)/result.shape[0]\n",
        "#     return (accuracy * 100)\n",
        "\n",
        "\n",
        "# train_features = train_features.astype('float32')/255\n",
        "# test_features = test_features.astype('float32')/255\n",
        "# # convert class labels to binary class labels\n",
        "# train_labels = np_utils.to_categorical(train_labels, num_classes)\n",
        "# test_labels = np_utils.to_categorical(test_labels, num_classes)\n",
        "\n",
        "\n",
        "# # Define the model\n",
        "# model = Sequential()\n",
        "# model.add(Convolution2D(48, 3, 3, border_mode='same', input_shape=(32, 32, 3)))\n",
        "# model.add(Activation('relu'))\n",
        "# model.add(Convolution2D(48, 3, 3))\n",
        "# model.add(Activation('relu'))\n",
        "# model.add(MaxPooling2D(pool_size=(2, 2)))\n",
        "# model.add(Dropout(0.25))\n",
        "# model.add(Convolution2D(96, 3, 3, border_mode='same'))\n",
        "# model.add(Activation('relu'))\n",
        "# model.add(Convolution2D(96, 3, 3))\n",
        "# model.add(Activation('relu'))\n",
        "# model.add(MaxPooling2D(pool_size=(2, 2)))\n",
        "# model.add(Dropout(0.25))\n",
        "# model.add(Convolution2D(192, 3, 3, border_mode='same'))\n",
        "# model.add(Activation('relu'))\n",
        "# model.add(Convolution2D(192, 3, 3))\n",
        "# model.add(Activation('relu'))\n",
        "# model.add(MaxPooling2D(pool_size=(2, 2)))\n",
        "# model.add(Dropout(0.25))\n",
        "# model.add(Flatten())\n",
        "# model.add(Dense(512))\n",
        "# model.add(Activation('relu'))\n",
        "# model.add(Dropout(0.5))\n",
        "# model.add(Dense(256))\n",
        "# model.add(Activation('relu'))\n",
        "# model.add(Dropout(0.5))\n",
        "# model.add(Dense(num_classes, activation='softmax'))\n",
        "# # Compile the model\n",
        "# model.compile(optimizer='adam', loss='categorical_crossentropy', metrics=['accuracy'])\n",
        "\n",
        "\n",
        "# model.summary()\n",
        "\n",
        "\n",
        "# #Training\n",
        "# from keras.preprocessing.image import ImageDataGenerator\n",
        "\n",
        "# datagen = ImageDataGenerator(zoom_range=0.0, \n",
        "#                              horizontal_flip=False)\n",
        "\n",
        "\n",
        "# # train the model\n",
        "# start = time.time()\n",
        "# # Train the model\n",
        "# model_info = model.fit_generator(datagen.flow(train_features, train_labels, batch_size = 128),\n",
        "#                                  samples_per_epoch = train_features.shape[0], nb_epoch = 100, \n",
        "#                                  validation_data = (test_features, test_labels), verbose=1)\n",
        "# end = time.time()\n",
        "# print (\"Model took %0.2f seconds to train\"%(end - start))\n",
        "# # plot model history\n",
        "# plot_model_history(model_info)\n",
        "# # compute test accuracy\n",
        "# print (\"Accuracy on test data is: %0.2f\"%accuracy(test_features, test_labels, model))\n"
      ],
      "execution_count": 0,
      "outputs": []
    }
  ]
}